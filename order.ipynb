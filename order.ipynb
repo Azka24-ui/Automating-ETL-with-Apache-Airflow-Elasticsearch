{
 "cells": [
  {
   "cell_type": "code",
   "execution_count": 1,
   "metadata": {},
   "outputs": [
    {
     "name": "stdout",
     "output_type": "stream",
     "text": [
      " CSV tanpa header sudah disimpan!\n"
     ]
    }
   ],
   "source": [
    "import pandas as pd\n",
    "\n",
    "df = pd.read_csv(\"Balaji Fast Food Sales.csv\", skiprows=1)  # Lewati header\n",
    "df.to_csv(\"Balaji_Fast_Food_Sales_Fixed.csv\", index=False, header=False)\n",
    "\n",
    "print(\" CSV tanpa header sudah disimpan!\")\n",
    "\n"
   ]
  }
 ],
 "metadata": {
  "kernelspec": {
   "display_name": "base",
   "language": "python",
   "name": "python3"
  },
  "language_info": {
   "codemirror_mode": {
    "name": "ipython",
    "version": 3
   },
   "file_extension": ".py",
   "mimetype": "text/x-python",
   "name": "python",
   "nbconvert_exporter": "python",
   "pygments_lexer": "ipython3",
   "version": "3.12.7"
  }
 },
 "nbformat": 4,
 "nbformat_minor": 2
}
